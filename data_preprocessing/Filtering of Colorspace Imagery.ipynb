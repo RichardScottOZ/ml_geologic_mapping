{
 "cells": [
  {
   "cell_type": "markdown",
   "metadata": {},
   "source": [
    "# Applying filters to the imagery\n",
    "\n",
    "This step is to preserve edges and remove vegetation"
   ]
  },
  {
   "cell_type": "code",
   "execution_count": 1,
   "metadata": {
    "collapsed": true
   },
   "outputs": [],
   "source": [
    "import numpy as np\n",
    "from skimage.filters import median, wiener, gaussian\n",
    "from skimage.morphology import disk\n",
    "from sklearn import preprocessing\n",
    "import scipy.misc\n"
   ]
  },
  {
   "cell_type": "code",
   "execution_count": 2,
   "metadata": {
    "collapsed": true
   },
   "outputs": [],
   "source": [
    "# %load ../data_preprocessing/functions.py\n",
    "import matplotlib.pyplot as plt\n",
    "from matplotlib import cm\n",
    "%matplotlib inline\n",
    "\n",
    "# A function to plot a matrix\n",
    "def plot_image(data, colorspace='binary'):\n",
    "    fig = plt.figure(figsize=(10,10)) \n",
    "    ax = fig.add_subplot(111)\n",
    "    ax.imshow(data, cmap=colorspace)\n",
    "    \n",
    "    \n",
    "def normalize_array(array):\n",
    "    array_min = array.min(axis=(0, 1), keepdims=True)\n",
    "    array_max = array.max(axis=(0, 1), keepdims=True)\n",
    "    normalized_array = (array - array_min)/(array_max - array_min)\n",
    "    \n",
    "    return normalized_array\n",
    "\n",
    "def normalize_with_preset(array, max_value, min_value):\n",
    "    normalized_array = (array - min_value)/(max_value - min_value)\n",
    "    \n",
    "    return normalized_array\n",
    "\n",
    "\n",
    "def recreate_image(labels, w, h):\n",
    "    \"\"\"Recreate the (compressed) image from the code book & labels\"\"\"\n",
    "    image = np.zeros((w, h))\n",
    "    label_idx = 0\n",
    "    for i in range(w):\n",
    "        for j in range(h):\n",
    "            image[i][j] = labels[label_idx]\n",
    "            label_idx += 1\n",
    "    return image\n",
    "\n",
    "def overlay_images(image1, image2, colorspace1='binary', colorspace2='magma', transparency=0.5):\n",
    "    plt.imshow(image1, cmap=colorspace1, interpolation='nearest')\n",
    "    plt.imshow(image2, cmap=colorspace2, alpha=transparency, interpolation='bilinear')\n",
    "    plt.show()\n",
    "    \n",
    "def flatten_normalize_neighbors(training_set, global_max=233, global_min=69):\n",
    "    flattened_neighbors = []\n",
    "    neighbors = training_set['neighbors']\n",
    "\n",
    "    for i in range(len(neighbors)):\n",
    "        numpy_array = np.array(neighbors[i]).reshape(-1, 1)\n",
    "        normalized_neighbors = normalize_with_preset(numpy_array, global_max, global_min)\n",
    "        flattened_neighbors.append(normalized_neighbors)\n",
    "    \n",
    "    return np.array(flattened_neighbors).reshape((len(flattened_neighbors), -1))\n",
    "\n",
    "def extract_values_from_training_data_locations(training_data, image_channel):\n",
    "    data_values = []\n",
    "    \n",
    "    for row in training_data:\n",
    "        data_values.append(np.array([(image_channel[row[0], row[1]]), row[2]]))\n",
    "        \n",
    "    data_values = np.array(data_values)\n",
    "    \n",
    "    return data_values\n",
    "\n",
    "def extract_neighborhood_values_from_training_data_locations(training_data, image_channel):\n",
    "    data_values = []\n",
    "    \n",
    "    for row in training_data:\n",
    "        data_values.append(np.array([(image_channel[row[0], row[1]]), row[2]]))\n",
    "        \n",
    "    data_values = np.array(data_values)\n",
    "    \n",
    "    return data_values\n",
    "\n",
    "def flatten_neighbors(neighbors):\n",
    "    data_values = []\n",
    "    \n",
    "    for neighbor in neighbors:\n",
    "        #data_values.append(neighbor[0].reshape(-1, 1))\n",
    "        data_values.append(neighbor[0].reshape(-1, 1))\n",
    "    \n",
    "    data_values = np.array(data_values)\n",
    "    \n",
    "    return data_values\n",
    "\n",
    "def extract_labels_from_set(dataset):\n",
    "    labels = []\n",
    "    for neighbor in training_set:\n",
    "        labels.append(neighbor[1])\n",
    "\n",
    "    return np.array(labels).flatten()"
   ]
  },
  {
   "cell_type": "markdown",
   "metadata": {},
   "source": [
    "## Load the colorspace converted data"
   ]
  },
  {
   "cell_type": "code",
   "execution_count": 3,
   "metadata": {
    "collapsed": true
   },
   "outputs": [],
   "source": [
    "original_enhanced_image = np.load('./data_preprocessing/numpy_data/indios_a.npy')\n",
    "indios_b_hsv_image = np.load('./data_preprocessing/numpy_data/indios_a_hsv.npy')"
   ]
  },
  {
   "cell_type": "code",
   "execution_count": 7,
   "metadata": {
    "collapsed": true
   },
   "outputs": [],
   "source": [
    "r = original_enhanced_image[:, :, 0]\n",
    "g = original_enhanced_image[:, :, 1]\n",
    "b = original_enhanced_image[:, :, 2]\n",
    "\n",
    "h = indios_b_hsv_image[:, :, 0]\n",
    "s = indios_b_hsv_image[:, :, 1]\n",
    "v = indios_b_hsv_image[:, :, 2]"
   ]
  },
  {
   "cell_type": "code",
   "execution_count": 8,
   "metadata": {
    "scrolled": true
   },
   "outputs": [],
   "source": [
    "# f, axarr = plt.subplots(1,3)\n",
    "# axarr[0].imshow(r)\n",
    "# axarr[1].imshow(g)\n",
    "# axarr[2].imshow(b)"
   ]
  },
  {
   "cell_type": "markdown",
   "metadata": {
    "collapsed": true
   },
   "source": [
    "## Save images for document"
   ]
  },
  {
   "cell_type": "code",
   "execution_count": 5,
   "metadata": {
    "collapsed": true
   },
   "outputs": [],
   "source": [
    "scipy.misc.imsave('./data_preprocessing/numpy_data/indios_b/original_rgb.jpg', original_enhanced_image)\n",
    "scipy.misc.imsave('./data_preprocessing/numpy_data/indios_b/original_hsv.jpg', indios_b_hsv_image)"
   ]
  },
  {
   "cell_type": "code",
   "execution_count": null,
   "metadata": {
    "collapsed": true
   },
   "outputs": [],
   "source": [
    "import gc"
   ]
  },
  {
   "cell_type": "markdown",
   "metadata": {},
   "source": [
    "## Apply median filtering"
   ]
  },
  {
   "cell_type": "code",
   "execution_count": 9,
   "metadata": {
    "collapsed": true,
    "scrolled": true
   },
   "outputs": [],
   "source": [
    "filtered_r = median(r, disk(20))\n",
    "filtered_g = median(g, disk(20))\n",
    "filtered_b = median(b, disk(20))"
   ]
  },
  {
   "cell_type": "code",
   "execution_count": 10,
   "metadata": {},
   "outputs": [
    {
     "name": "stderr",
     "output_type": "stream",
     "text": [
      "D:\\Users\\gavargas\\Anaconda3\\lib\\site-packages\\skimage\\util\\dtype.py:122: UserWarning: Possible precision loss when converting from float64 to uint8\n",
      "  .format(dtypeobj_in, dtypeobj_out))\n"
     ]
    }
   ],
   "source": [
    "filtered_h = median(h, disk(20))\n",
    "filtered_s = median(s, disk(20))\n",
    "filtered_v = median(v, disk(20))"
   ]
  },
  {
   "cell_type": "code",
   "execution_count": 11,
   "metadata": {
    "collapsed": true
   },
   "outputs": [],
   "source": [
    "rgb_filtered = np.dstack([filtered_r, filtered_g, filtered_b])\n",
    "hsv_filtered = np.dstack([filtered_h, filtered_s, filtered_v])"
   ]
  },
  {
   "cell_type": "code",
   "execution_count": 12,
   "metadata": {
    "collapsed": true
   },
   "outputs": [],
   "source": [
    "# rgb_subset = original_enhanced_image[0:4000, 0:4000, :]\n",
    "# hsv_subset = indios_b_hsv_image[0:4000, 0:4000, :]\n",
    "\n",
    "# rgb_filtered_subset = rgb_filtered[0:4000, 0:4000, :]\n",
    "# hsv_filtered_subset = hsv_filtered[0:4000, 0:4000, :]"
   ]
  },
  {
   "cell_type": "code",
   "execution_count": 13,
   "metadata": {
    "collapsed": true
   },
   "outputs": [],
   "source": [
    "scipy.misc.imsave('./data_preprocessing/numpy_data/indios_a/original_filtered_rgb.jpg', rgb_filtered)\n",
    "scipy.misc.imsave('./data_preprocessing/numpy_data/indios_a/original_filtered_hsv.jpg', hsv_filtered)"
   ]
  },
  {
   "cell_type": "markdown",
   "metadata": {},
   "source": [
    "## Normalize Images"
   ]
  },
  {
   "cell_type": "code",
   "execution_count": 14,
   "metadata": {
    "collapsed": true
   },
   "outputs": [],
   "source": [
    "normalized_filtered_rgb = normalize_array(rgb_filtered)\n",
    "normalized_filtered_hsv = normalize_array(hsv_filtered)\n",
    "\n",
    "# hsv_image = hsv_image.astype(np.uint16)\n",
    "# lab_image = lab_image.astype(np.uint16)"
   ]
  },
  {
   "cell_type": "markdown",
   "metadata": {},
   "source": [
    "## Storing the filtered data"
   ]
  },
  {
   "cell_type": "code",
   "execution_count": 17,
   "metadata": {
    "collapsed": true
   },
   "outputs": [],
   "source": [
    "np.save('./data_preprocessing/numpy_data/indios_a/normalized_filtered_rgb.npy', normalized_filtered_rgb)\n",
    "np.save('./data_preprocessing/numpy_data/indios_a/normalized_filtered_hsv.npy', normalized_filtered_hsv)"
   ]
  },
  {
   "cell_type": "code",
   "execution_count": null,
   "metadata": {
    "collapsed": true
   },
   "outputs": [],
   "source": []
  }
 ],
 "metadata": {
  "kernelspec": {
   "display_name": "Python 3",
   "language": "python",
   "name": "python3"
  },
  "language_info": {
   "codemirror_mode": {
    "name": "ipython",
    "version": 3
   },
   "file_extension": ".py",
   "mimetype": "text/x-python",
   "name": "python",
   "nbconvert_exporter": "python",
   "pygments_lexer": "ipython3",
   "version": "3.6.3"
  }
 },
 "nbformat": 4,
 "nbformat_minor": 2
}
