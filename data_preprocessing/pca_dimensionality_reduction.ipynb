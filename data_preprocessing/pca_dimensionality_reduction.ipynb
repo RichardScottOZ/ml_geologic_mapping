{
 "cells": [
  {
   "cell_type": "markdown",
   "metadata": {},
   "source": [
    "# PCA Dimensionality Reduction"
   ]
  },
  {
   "cell_type": "code",
   "execution_count": 2,
   "metadata": {
    "collapsed": true
   },
   "outputs": [],
   "source": [
    "import numpy as np\n",
    "from sklearn.decomposition import PCA"
   ]
  },
  {
   "cell_type": "code",
   "execution_count": 4,
   "metadata": {
    "collapsed": true
   },
   "outputs": [],
   "source": [
    "# %load functions.py\n",
    "import matplotlib.pyplot as plt\n",
    "from matplotlib import cm\n",
    "%matplotlib inline\n",
    "\n",
    "# A function to plot a matrix\n",
    "def plot_image(data, colorspace='binary'):\n",
    "    fig = plt.figure(figsize=(10,10)) \n",
    "    ax = fig.add_subplot(111)\n",
    "    ax.imshow(data, cmap=colorspace)\n",
    "    \n",
    "    \n",
    "def normalize_array(array):\n",
    "    array_min = array.min(axis=(0, 1), keepdims=True)\n",
    "    array_max = array.max(axis=(0, 1), keepdims=True)\n",
    "    normalized_array = (array - array_min)/(array_max - array_min)\n",
    "    \n",
    "    return normalized_array\n",
    "\n",
    "def normalize_with_preset(array, max_value, min_value):\n",
    "    normalized_array = (array - min_value)/(max_value - min_value)\n",
    "    \n",
    "    return normalized_array\n",
    "\n",
    "\n",
    "def recreate_image(labels, w, h):\n",
    "    \"\"\"Recreate the (compressed) image from the code book & labels\"\"\"\n",
    "    image = np.zeros((w, h))\n",
    "    label_idx = 0\n",
    "    for i in range(w):\n",
    "        for j in range(h):\n",
    "            image[i][j] = labels[label_idx]\n",
    "            label_idx += 1\n",
    "    return image\n",
    "\n",
    "def overlay_images(image1, image2, colorspace1='binary', colorspace2='magma', transparency=0.5):\n",
    "    plt.imshow(image1, cmap=colorspace1, interpolation='nearest')\n",
    "    plt.imshow(image2, cmap=colorspace2, alpha=transparency, interpolation='bilinear')\n",
    "    plt.show()\n",
    "    \n",
    "def flatten_normalize_neighbors(training_set, global_max=233, global_min=69):\n",
    "    flattened_neighbors = []\n",
    "    neighbors = training_set['neighbors']\n",
    "\n",
    "    for i in range(len(neighbors)):\n",
    "        numpy_array = np.array(neighbors[i]).reshape(-1, 1)\n",
    "        normalized_neighbors = normalize_with_preset(numpy_array, global_max, global_min)\n",
    "        flattened_neighbors.append(normalized_neighbors)\n",
    "    \n",
    "    return np.array(flattened_neighbors).reshape((len(flattened_neighbors), -1))"
   ]
  },
  {
   "cell_type": "markdown",
   "metadata": {},
   "source": [
    "## Load up the image blocks"
   ]
  },
  {
   "cell_type": "code",
   "execution_count": 11,
   "metadata": {
    "collapsed": true
   },
   "outputs": [],
   "source": [
    "image = np.load('./data_preprocessing/numpy_data/indios_b/indios_b_hsv.npy')"
   ]
  },
  {
   "cell_type": "markdown",
   "metadata": {},
   "source": [
    "## Setup the images in an array"
   ]
  },
  {
   "cell_type": "code",
   "execution_count": 12,
   "metadata": {},
   "outputs": [
    {
     "data": {
      "text/plain": [
       "(4000, 4000)"
      ]
     },
     "execution_count": 12,
     "metadata": {},
     "output_type": "execute_result"
    }
   ],
   "source": [
    "image.shape"
   ]
  },
  {
   "cell_type": "markdown",
   "metadata": {},
   "source": [
    "## Initialize the PCA algorithm"
   ]
  },
  {
   "cell_type": "code",
   "execution_count": 13,
   "metadata": {
    "collapsed": true
   },
   "outputs": [],
   "source": [
    "pca = PCA(n_components=3)"
   ]
  },
  {
   "cell_type": "code",
   "execution_count": 14,
   "metadata": {},
   "outputs": [
    {
     "data": {
      "text/plain": [
       "PCA(copy=True, iterated_power='auto', n_components=3, random_state=None,\n",
       "  svd_solver='auto', tol=0.0, whiten=False)"
      ]
     },
     "execution_count": 14,
     "metadata": {},
     "output_type": "execute_result"
    }
   ],
   "source": [
    "pca.fit(image)"
   ]
  },
  {
   "cell_type": "code",
   "execution_count": null,
   "metadata": {
    "collapsed": true
   },
   "outputs": [],
   "source": [
    "pca!"
   ]
  }
 ],
 "metadata": {
  "kernelspec": {
   "display_name": "Python 3",
   "language": "python",
   "name": "python3"
  },
  "language_info": {
   "codemirror_mode": {
    "name": "ipython",
    "version": 3
   },
   "file_extension": ".py",
   "mimetype": "text/x-python",
   "name": "python",
   "nbconvert_exporter": "python",
   "pygments_lexer": "ipython3",
   "version": "3.6.3"
  }
 },
 "nbformat": 4,
 "nbformat_minor": 2
}
